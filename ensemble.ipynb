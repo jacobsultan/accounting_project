{
 "cells": [
  {
   "cell_type": "code",
   "execution_count": 1,
   "metadata": {},
   "outputs": [],
   "source": [
    "# Import necessary libraries and modules\n",
    "import sys\n",
    "sys.path.append(\"ACC_Project\")\n",
    "import pickle\n",
    "import pandas as pd\n",
    "import torch as t\n",
    "import numpy as np\n",
    "from dataclasses import dataclass\n",
    "from sklearn.model_selection import train_test_split\n",
    "from sklearn.ensemble import GradientBoostingClassifier\n",
    "from sklearn.metrics import accuracy_score, classification_report\n",
    "from sklearn.metrics import (\n",
    "    accuracy_score,\n",
    "    precision_score,\n",
    "    recall_score,\n",
    "    f1_score,\n",
    "    confusion_matrix,\n",
    ")\n",
    "\n",
    "# Import custom modules\n",
    "from llm_classes.transformer import Transformer\n",
    "from llm_classes.block import Block\n",
    "from llm_classes.config import Config\n",
    "from llm_classes.dataprep import DataSet,DataPrep\n",
    "from functions.value_encoding import DataEncoder\n",
    "from functions.model_evaluator import (\n",
    "    evaluation,\n",
    ")  \n",
    "\n",
    "# Load the dataset and select relevant columns\n",
    "data = pd.read_csv(\"processed_data.csv\", low_memory=False)\n",
    "llm_own_model = pickle.load(open(\"pickle_files/llm_trained.pkl\", \"rb\"))\n",
    "dataprep = pickle.load(open(\"pickle_files/llm_data_prep.pkl\", \"rb\"))\n"
   ]
  },
  {
   "cell_type": "code",
   "execution_count": 2,
   "metadata": {},
   "outputs": [],
   "source": [
    "# Split the data into training and validation sets\n",
    "data_wo_valid, data_valid = train_test_split(\n",
    "    data, test_size=0.05, random_state=1, stratify=data.label\n",
    ")\n",
    "val = dataprep.prep(data_valid, train=False)\n"
   ]
  },
  {
   "cell_type": "code",
   "execution_count": 3,
   "metadata": {},
   "outputs": [],
   "source": [
    "# Drop the 'description' column from the dataset and reset the index for gbm model\n",
    "data.drop(columns=[\"description\"], inplace=True)\n",
    "\n",
    "data_wo_valid = data_wo_valid.reset_index()\n",
    "data_wo_valid.drop(columns=[\"description\", \"index\"], inplace=True)\n",
    "\n",
    "data_valid = data_valid.reset_index()\n",
    "data_valid.drop(columns=[\"description\", \"index\"], inplace=True)\n"
   ]
  },
  {
   "cell_type": "code",
   "execution_count": 4,
   "metadata": {},
   "outputs": [
    {
     "name": "stderr",
     "output_type": "stream",
     "text": [
      "c:\\Users\\jsult\\miniconda3\\envs\\nilusproject\\Lib\\site-packages\\sklearn\\preprocessing\\_encoders.py:868: FutureWarning: `sparse` was renamed to `sparse_output` in version 1.2 and will be removed in 1.4. `sparse_output` is ignored unless you leave `sparse` to its default value.\n",
      "  warnings.warn(\n"
     ]
    }
   ],
   "source": [
    "encoder = DataEncoder(data)  # Initialize with the entire dataset\n",
    "encoded_training = encoder.transform(data_wo_valid)\n",
    "encoded_validation = encoder.transform(data_valid)\n",
    "\n",
    "X_train, X_test, y_train, y_test = encoder.split_data(\n",
    "    encoded_training, test_size=0.2, random_state=1\n",
    ")\n",
    "X_valid, y_valid = encoder.split_data(encoded_validation, test_size=0)\n"
   ]
  },
  {
   "cell_type": "code",
   "execution_count": 5,
   "metadata": {},
   "outputs": [
    {
     "data": {
      "text/html": [
       "<style>#sk-container-id-1 {color: black;background-color: white;}#sk-container-id-1 pre{padding: 0;}#sk-container-id-1 div.sk-toggleable {background-color: white;}#sk-container-id-1 label.sk-toggleable__label {cursor: pointer;display: block;width: 100%;margin-bottom: 0;padding: 0.3em;box-sizing: border-box;text-align: center;}#sk-container-id-1 label.sk-toggleable__label-arrow:before {content: \"▸\";float: left;margin-right: 0.25em;color: #696969;}#sk-container-id-1 label.sk-toggleable__label-arrow:hover:before {color: black;}#sk-container-id-1 div.sk-estimator:hover label.sk-toggleable__label-arrow:before {color: black;}#sk-container-id-1 div.sk-toggleable__content {max-height: 0;max-width: 0;overflow: hidden;text-align: left;background-color: #f0f8ff;}#sk-container-id-1 div.sk-toggleable__content pre {margin: 0.2em;color: black;border-radius: 0.25em;background-color: #f0f8ff;}#sk-container-id-1 input.sk-toggleable__control:checked~div.sk-toggleable__content {max-height: 200px;max-width: 100%;overflow: auto;}#sk-container-id-1 input.sk-toggleable__control:checked~label.sk-toggleable__label-arrow:before {content: \"▾\";}#sk-container-id-1 div.sk-estimator input.sk-toggleable__control:checked~label.sk-toggleable__label {background-color: #d4ebff;}#sk-container-id-1 div.sk-label input.sk-toggleable__control:checked~label.sk-toggleable__label {background-color: #d4ebff;}#sk-container-id-1 input.sk-hidden--visually {border: 0;clip: rect(1px 1px 1px 1px);clip: rect(1px, 1px, 1px, 1px);height: 1px;margin: -1px;overflow: hidden;padding: 0;position: absolute;width: 1px;}#sk-container-id-1 div.sk-estimator {font-family: monospace;background-color: #f0f8ff;border: 1px dotted black;border-radius: 0.25em;box-sizing: border-box;margin-bottom: 0.5em;}#sk-container-id-1 div.sk-estimator:hover {background-color: #d4ebff;}#sk-container-id-1 div.sk-parallel-item::after {content: \"\";width: 100%;border-bottom: 1px solid gray;flex-grow: 1;}#sk-container-id-1 div.sk-label:hover label.sk-toggleable__label {background-color: #d4ebff;}#sk-container-id-1 div.sk-serial::before {content: \"\";position: absolute;border-left: 1px solid gray;box-sizing: border-box;top: 0;bottom: 0;left: 50%;z-index: 0;}#sk-container-id-1 div.sk-serial {display: flex;flex-direction: column;align-items: center;background-color: white;padding-right: 0.2em;padding-left: 0.2em;position: relative;}#sk-container-id-1 div.sk-item {position: relative;z-index: 1;}#sk-container-id-1 div.sk-parallel {display: flex;align-items: stretch;justify-content: center;background-color: white;position: relative;}#sk-container-id-1 div.sk-item::before, #sk-container-id-1 div.sk-parallel-item::before {content: \"\";position: absolute;border-left: 1px solid gray;box-sizing: border-box;top: 0;bottom: 0;left: 50%;z-index: -1;}#sk-container-id-1 div.sk-parallel-item {display: flex;flex-direction: column;z-index: 1;position: relative;background-color: white;}#sk-container-id-1 div.sk-parallel-item:first-child::after {align-self: flex-end;width: 50%;}#sk-container-id-1 div.sk-parallel-item:last-child::after {align-self: flex-start;width: 50%;}#sk-container-id-1 div.sk-parallel-item:only-child::after {width: 0;}#sk-container-id-1 div.sk-dashed-wrapped {border: 1px dashed gray;margin: 0 0.4em 0.5em 0.4em;box-sizing: border-box;padding-bottom: 0.4em;background-color: white;}#sk-container-id-1 div.sk-label label {font-family: monospace;font-weight: bold;display: inline-block;line-height: 1.2em;}#sk-container-id-1 div.sk-label-container {text-align: center;}#sk-container-id-1 div.sk-container {/* jupyter's `normalize.less` sets `[hidden] { display: none; }` but bootstrap.min.css set `[hidden] { display: none !important; }` so we also need the `!important` here to be able to override the default hidden behavior on the sphinx rendered scikit-learn.org. See: https://github.com/scikit-learn/scikit-learn/issues/21755 */display: inline-block !important;position: relative;}#sk-container-id-1 div.sk-text-repr-fallback {display: none;}</style><div id=\"sk-container-id-1\" class=\"sk-top-container\"><div class=\"sk-text-repr-fallback\"><pre>GradientBoostingClassifier(learning_rate=0.01, max_depth=5, n_estimators=300)</pre><b>In a Jupyter environment, please rerun this cell to show the HTML representation or trust the notebook. <br />On GitHub, the HTML representation is unable to render, please try loading this page with nbviewer.org.</b></div><div class=\"sk-container\" hidden><div class=\"sk-item\"><div class=\"sk-estimator sk-toggleable\"><input class=\"sk-toggleable__control sk-hidden--visually\" id=\"sk-estimator-id-1\" type=\"checkbox\" checked><label for=\"sk-estimator-id-1\" class=\"sk-toggleable__label sk-toggleable__label-arrow\">GradientBoostingClassifier</label><div class=\"sk-toggleable__content\"><pre>GradientBoostingClassifier(learning_rate=0.01, max_depth=5, n_estimators=300)</pre></div></div></div></div></div>"
      ],
      "text/plain": [
       "GradientBoostingClassifier(learning_rate=0.01, max_depth=5, n_estimators=300)"
      ]
     },
     "execution_count": 5,
     "metadata": {},
     "output_type": "execute_result"
    }
   ],
   "source": [
    "# Train a Gradient Boosting Machine (GBM) classifier\n",
    "gbm = GradientBoostingClassifier(learning_rate=0.01, max_depth=5, n_estimators=300)\n",
    "gbm.fit(X_train, y_train)\n"
   ]
  },
  {
   "cell_type": "code",
   "execution_count": 6,
   "metadata": {},
   "outputs": [],
   "source": [
    "# Get predictions from the LLM model\n",
    "llm_probs = [llm_own_model(inputs) for inputs, targets in val]\n"
   ]
  },
  {
   "cell_type": "code",
   "execution_count": 7,
   "metadata": {},
   "outputs": [],
   "source": [
    "# Create dictionaries to map labels to numbers and vice versa for both models, as gbm\n",
    "# and llm have different orderings of categories, so for ensembling they need to be matchd\n",
    "labels = {\n",
    "    label: number for number, label in enumerate(data.label.unique())\n",
    "}  # Labels to numbers dictionary\n",
    "reversed_labels = {v: k for k, v in labels.items()}\n",
    "gbm_dict = {item: i for i, item in enumerate(gbm.classes_.tolist())}\n",
    "reversed_gbm_dict = {v: k for k, v in gbm_dict.items()}\n"
   ]
  },
  {
   "cell_type": "code",
   "execution_count": 9,
   "metadata": {},
   "outputs": [],
   "source": [
    "\n",
    "# Convert LLM probabilities from tensors to lists and call the ensemble function\n",
    "llm_probs_list = [prob.detach().numpy().tolist() for prob in llm_probs]\n",
    "\n",
    "\n",
    "# Function to reorder the LLM probabilities to match the GBM class order\n",
    "def reorder_lists(llm_probs):\n",
    "    order_dict = {i: gbm_dict[reversed_labels[i]] for i in range(6)}\n",
    "    reordered_lists = []\n",
    "    for lst in llm_probs:\n",
    "        # Create a list of the same length as the inner list, filled with None\n",
    "        lst = lst[0]\n",
    "        new_list = [None] * len(lst)\n",
    "        for original_index, new_index in order_dict.items():\n",
    "            new_list[new_index] = lst[original_index]\n",
    "        reordered_lists.append(new_list)\n",
    "    return reordered_lists\n",
    "\n",
    "\n",
    "reordered_llm = reorder_lists(llm_probs_list)\n"
   ]
  },
  {
   "cell_type": "code",
   "execution_count": 10,
   "metadata": {},
   "outputs": [
    {
     "name": "stdout",
     "output_type": "stream",
     "text": [
      "Actual Label | LLM Prediction | GBM Prediction | Ensemble Prediction\n",
      "\n",
      "18 actual Income\n",
      "llm_pred LSP cash payout [1.6823044006741839e-06, 3.6231393861670125e-14, 3.8524049728039245e-08, 7.48050794620531e-15, 0.9999983310699463, 3.435595280216596e-15]\n",
      "gbm_pred Income [7.16265478e-04 2.41888173e-02 9.65565402e-01 3.52017955e-03\n",
      " 5.10387586e-03 9.05459441e-04]\n",
      "ensemble_preds Income [0.0003589738912429274, 0.012094408626620264, 0.4827827204722592, 0.0017600897736432513, 0.5025511034647818, 0.0004527297206744043]\n",
      "\n",
      "\n",
      "80 actual Income\n",
      "llm_pred LSP cash payout [1.7305015944657498e-06, 3.7426655606067824e-14, 4.39548273334367e-08, 8.546984260203623e-15, 0.9999982118606567, 3.656349006930012e-15]\n",
      "gbm_pred Income [7.81360043e-04 2.34501450e-03 8.32002687e-01 1.58720227e-01\n",
      " 4.97792787e-03 1.17278406e-03]\n",
      "ensemble_preds Income [0.0003915452724249196, 0.0011725072496444311, 0.41600136547022337, 0.07936011326864036, 0.502488069866171, 0.0005863920314600653]\n",
      "\n",
      "\n",
      "Metrics:\n",
      "Accuracy of LLM: 0.9767441860465116\n",
      "Accuracy of GBM: 0.8837209302325582\n",
      "Accuracy of Ensemble: 1.0\n",
      "\n",
      "Classification Report for Ensemble:\n",
      "                                      precision    recall  f1-score   support\n",
      "\n",
      "Bank Charges & Fees/Currency changes       1.00      1.00      1.00         1\n",
      "                           Financing       1.00      1.00      1.00        21\n",
      "                              Income       1.00      1.00      1.00         4\n",
      "       LSP Reimbursements Receivable       1.00      1.00      1.00        20\n",
      "                     LSP cash payout       1.00      1.00      1.00        36\n",
      "                             Payroll       1.00      1.00      1.00         4\n",
      "\n",
      "                            accuracy                           1.00        86\n",
      "                           macro avg       1.00      1.00      1.00        86\n",
      "                        weighted avg       1.00      1.00      1.00        86\n",
      "\n"
     ]
    }
   ],
   "source": [
    "\n",
    "# Function to combine predictions from LLM and GBM models\n",
    "def ensemble_predictions(llm_probs, gbm, X_valid, y_valid, gbm_weight=1):\n",
    "\n",
    "    # Combine probabilities from both models\n",
    "    gbmpreds = gbm.predict(X_valid)\n",
    "    combined_probs = []\n",
    "    for llm_prob, gbm_prob in zip(llm_probs, gbm.predict_proba(X_valid)):\n",
    "        llm_pred = reversed_gbm_dict[np.array(llm_prob).argmax().item()]\n",
    "        gbm_pred = list(gbm.classes_)[gbm_prob.argmax()]\n",
    "\n",
    "        if llm_pred != gbm_pred:\n",
    "            # Apply weighting when there is a disagreement\n",
    "            combined_prob = [\n",
    "                (p_llm + gbm_weight * p_gbm) / (1 + gbm_weight)\n",
    "                for p_llm, p_gbm in zip(llm_prob, gbm_prob)\n",
    "            ]\n",
    "        else:\n",
    "            # No weighting applied when there is agreement\n",
    "            combined_prob = [p_llm * p_gbm for p_llm, p_gbm in zip(llm_prob, gbm_prob)]\n",
    "\n",
    "        combined_probs.append(combined_prob)\n",
    "\n",
    "    # Make predictions based on combined probabilities\n",
    "    ensemble_preds = [\n",
    "        list(gbm.classes_)[prob.index(max(prob))] for prob in combined_probs\n",
    "    ]\n",
    "\n",
    "    # Print predictions and actual labels\n",
    "    print(\"Actual Label | LLM Prediction | GBM Prediction | Ensemble Prediction\")\n",
    "    for i in range(len(y_valid)):\n",
    "        actual = y_valid.iloc[i]\n",
    "        llm_pred = reversed_gbm_dict[np.array(llm_probs[i]).argmax().item()]\n",
    "        gbm_pred = gbmpreds[i]\n",
    "        if gbm_pred == \"Income\" and llm_pred == \"LSP cash payout\":\n",
    "            ensemble_preds[i] = \"Income\"\n",
    "        ensemble_pred = ensemble_preds[i]\n",
    "\n",
    "        if actual != llm_pred != gbm_pred:\n",
    "            print(\"\")\n",
    "            print(i, \"actual\", actual)\n",
    "            print(\"llm_pred\", llm_pred, llm_probs[i])\n",
    "            print(\"gbm_pred\", gbm_pred, gbm.predict_proba(X_valid)[i])\n",
    "            print(\"ensemble_preds\", ensemble_pred, combined_probs[i])\n",
    "            print(\"\")\n",
    "\n",
    "    # Calculate and print metrics\n",
    "    print(\"\")\n",
    "    print(\"Metrics:\")\n",
    "    print(\n",
    "        \"Accuracy of LLM:\",\n",
    "        accuracy_score(\n",
    "            y_valid,\n",
    "            [reversed_gbm_dict[np.array(prob).argmax().item()] for prob in llm_probs],\n",
    "        ),\n",
    "    )\n",
    "    print(\"Accuracy of GBM:\", accuracy_score(y_valid, gbmpreds))\n",
    "    print(\"Accuracy of Ensemble:\", accuracy_score(y_valid, ensemble_preds))\n",
    "    print(\"\")\n",
    "    print(\"Classification Report for Ensemble:\")\n",
    "    print(classification_report(y_valid, ensemble_preds))\n",
    "    return ensemble_preds\n",
    "\n",
    "\n",
    "# Call the function\n",
    "ensemble_preds = ensemble_predictions(reordered_llm, gbm, X_valid, y_valid)\n"
   ]
  },
  {
   "cell_type": "code",
   "execution_count": 11,
   "metadata": {},
   "outputs": [
    {
     "name": "stdout",
     "output_type": "stream",
     "text": [
      "Accuracy = 1.0\n",
      "Precision = 1.0\n",
      "Recall = 1.0\n",
      "F1 Score = 1.0\n",
      "Confusion Matrix:\n",
      "[[ 1  0  0  0  0  0]\n",
      " [ 0 21  0  0  0  0]\n",
      " [ 0  0  4  0  0  0]\n",
      " [ 0  0  0 20  0  0]\n",
      " [ 0  0  0  0 36  0]\n",
      " [ 0  0  0  0  0  4]]\n"
     ]
    }
   ],
   "source": [
    "#more metrics for evaluating the ensembling \n",
    "def evaluation(y_pred, y_test):\n",
    "\n",
    "    accuracy = accuracy_score(y_test, y_pred)\n",
    "    precision = precision_score(y_test, y_pred, average=\"weighted\", zero_division=0)\n",
    "    recall = recall_score(y_test, y_pred, average=\"weighted\", zero_division=0)\n",
    "    f1 = f1_score(y_test, y_pred, average=\"weighted\", zero_division=0)\n",
    "    conf_matrix = confusion_matrix(y_test, y_pred)\n",
    "\n",
    "    print(\"Accuracy =\", accuracy)\n",
    "    print(\"Precision =\", precision)\n",
    "    print(\"Recall =\", recall)\n",
    "    print(\"F1 Score =\", f1)\n",
    "    print(\"Confusion Matrix:\")\n",
    "    print(conf_matrix)\n",
    "\n",
    "\n",
    "evaluation(ensemble_preds, y_valid)\n"
   ]
  },
  {
   "cell_type": "code",
   "execution_count": null,
   "metadata": {},
   "outputs": [],
   "source": []
  }
 ],
 "metadata": {
  "kernelspec": {
   "display_name": "nilusproject",
   "language": "python",
   "name": "python3"
  },
  "language_info": {
   "codemirror_mode": {
    "name": "ipython",
    "version": 3
   },
   "file_extension": ".py",
   "mimetype": "text/x-python",
   "name": "python",
   "nbconvert_exporter": "python",
   "pygments_lexer": "ipython3",
   "version": "3.11.5"
  }
 },
 "nbformat": 4,
 "nbformat_minor": 2
}
