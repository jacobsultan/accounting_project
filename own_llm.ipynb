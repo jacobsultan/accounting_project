{
 "cells": [
  {
   "cell_type": "code",
   "execution_count": 1,
   "metadata": {},
   "outputs": [],
   "source": [
    "# Import necessary libraries and modules\n",
    "import sys\n",
    "sys.path.append(\"ACC_Project\")\n",
    "\n",
    "# Import custom classes from the llm_classes \n",
    "from llm_classes.textprocessing import TextProcessing\n",
    "from llm_classes.block import Block\n",
    "from llm_classes.config import Config\n",
    "from llm_classes.dataprep import DataPrep, DataSet\n",
    "from llm_classes.modeltrainer import ModelTrainer\n",
    "from llm_classes.textprocessing import TextProcessing\n",
    "from llm_classes.transformer import Transformer\n",
    "\n",
    "# Import additional libraries for data handling and machine learning\n",
    "from sklearn.model_selection import train_test_split\n",
    "from sklearn.metrics import confusion_matrix, accuracy_score\n",
    "import pickle\n",
    "import torch as t\n",
    "import pandas as pd\n",
    "import torch.nn as nn\n",
    "import seaborn as sns\n",
    "import matplotlib.pyplot as plt\n"
   ]
  },
  {
   "cell_type": "code",
   "execution_count": 2,
   "metadata": {},
   "outputs": [],
   "source": [
    "# Checking for GPU availability\n",
    "device = \"cuda\" if t.cuda.is_available() else \"cpu\"\n",
    "\n",
    "# Load the dataset and select relevant columns\n",
    "df = pd.read_csv(\"processed_data.csv\", low_memory=False)\n",
    "df = df[[\"description\", \"label\"]]\n",
    "\n",
    "# Split the dataset into working and validation sets\n",
    "df_wo_valid, df_valid = train_test_split(\n",
    "    df, test_size=0.05, random_state=2, stratify=df.label\n",
    ")\n"
   ]
  },
  {
   "cell_type": "code",
   "execution_count": 3,
   "metadata": {},
   "outputs": [
    {
     "name": "stdout",
     "output_type": "stream",
     "text": [
      "Epoch 0: Train Loss: 1.4317, Test Accuracy: 0.8923\n",
      "Epoch 1: Train Loss: 1.1518, Test Accuracy: 0.8923\n",
      "Epoch 2: Train Loss: 1.1507, Test Accuracy: 0.8923\n",
      "Epoch 3: Train Loss: 1.1500, Test Accuracy: 0.8892\n",
      "Epoch 4: Train Loss: 1.1498, Test Accuracy: 0.8923\n",
      "Epoch 5: Train Loss: 1.1499, Test Accuracy: 0.8923\n",
      "Epoch 6: Train Loss: 1.1499, Test Accuracy: 0.8923\n",
      "Epoch 7: Train Loss: 1.1498, Test Accuracy: 0.8862\n",
      "Epoch 8: Train Loss: 1.1506, Test Accuracy: 0.8923\n",
      "Epoch 9: Train Loss: 1.1497, Test Accuracy: 0.8923\n"
     ]
    }
   ],
   "source": [
    "# Define a function to set up and train the llm\n",
    "def setup_and_train_model(dataframe, extended_df, epochs):\n",
    "\n",
    "    # Instantiate the Textprocessing class with the extended dataframe so vocab from validation set will be in tokenizer\n",
    "    text_process = TextProcessing(df=extended_df, block_size=15)\n",
    "\n",
    "    # Set up the configuration (model_paramaters)\n",
    "    cfg = Config(\n",
    "        epochs=epochs,\n",
    "        batch_size=16,\n",
    "        vocab_size=len(text_process.tokens),\n",
    "        num_classes=len(text_process.labels),\n",
    "    )\n",
    "\n",
    "    # Encode the descriptions and labels\n",
    "    dataprep = DataPrep(\n",
    "        df=dataframe, test_size=0.2, textprocessing=text_process, cfg=cfg\n",
    "    )\n",
    "\n",
    "    # Create the model instance\n",
    "    model = Transformer(cfg)\n",
    "\n",
    "    # Split the data into training and testing sets\n",
    "    train_data, test_data = dataprep.train_test(dataframe)\n",
    "\n",
    "    # Define the loss function and optimizer for the model\n",
    "    model_loss = nn.CrossEntropyLoss()\n",
    "    model_optimizer = t.optim.RMSprop(model.parameters(), lr=4e-4)\n",
    "\n",
    "    # Create the ModelTrainer instance and train the model\n",
    "    trainer = ModelTrainer(\n",
    "        model=model,\n",
    "        train_data=train_data,\n",
    "        test_data=test_data,\n",
    "        optimizer=model_optimizer,\n",
    "        loss_function=model_loss,\n",
    "        device=device,\n",
    "        cfg=cfg,\n",
    "    )\n",
    "    # Train the model\n",
    "    trainer.train(epochs=epochs)\n",
    "\n",
    "    return model, dataprep, text_process, dataprep, cfg\n",
    "\n",
    "model, dataprep, textprocess, dataprep, cfg = setup_and_train_model(\n",
    "    dataframe=df_wo_valid, extended_df=df, epochs=10\n",
    ")\n"
   ]
  },
  {
   "cell_type": "code",
   "execution_count": 4,
   "metadata": {},
   "outputs": [],
   "source": [
    "# Define a function to save objects\n",
    "def save_file(item, name):\n",
    "    pickle.dump(item, open(\"pickle_files/{}.pkl\".format(name), \"wb\"))\n",
    "\n",
    "# Save the trained model and data preparation objects\n",
    "save_file(model, \"llm_trained\")\n",
    "save_file(dataprep, \"llm_data_prep\")\n"
   ]
  },
  {
   "cell_type": "code",
   "execution_count": 5,
   "metadata": {},
   "outputs": [],
   "source": [
    "# Load the trained model and data preparation objects \n",
    "model = pickle.load(open(\"pickle_files/llm_trained.pkl\", \"rb\"))\n",
    "val = pickle.load(open(\"pickle_files/llm_data_prep.pkl\", \"rb\")).prep(\n",
    "    df_valid, train=False\n",
    ")\n"
   ]
  },
  {
   "cell_type": "code",
   "execution_count": 6,
   "metadata": {},
   "outputs": [
    {
     "name": "stdout",
     "output_type": "stream",
     "text": [
      "Category 'a': Accuracy: 0.00\n",
      "Category 'b': Accuracy: 1.00\n",
      "Category 'c': Accuracy: 0.00\n",
      "Category 'd': Accuracy: 1.00\n",
      "Category 'e': Accuracy: 0.00\n",
      "Category 'f': Accuracy: 1.00\n",
      "Overall Accuracy: 0.90\n"
     ]
    },
    {
     "data": {
      "image/png": "[encoded data removed]",
      "text/plain": [
       "<Figure size 1000x800 with 2 Axes>"
      ]
     },
     "metadata": {},
     "output_type": "display_data"
    }
   ],
   "source": [
    "from sklearn.metrics import confusion_matrix, accuracy_score\n",
    "import seaborn as sns\n",
    "import matplotlib.pyplot as plt\n",
    "\n",
    "def cat_accuracy(model, dl, idx_to_label):\n",
    "    all_preds = []\n",
    "    all_targets = []\n",
    "\n",
    "    # Iterate over the validation dataset\n",
    "    for inputs, targets in dl:\n",
    "        inputs = inputs.to(device)  # Ensure the inputs are on the correct device\n",
    "        with t.no_grad():  # No need to track gradients during validation\n",
    "            outputs = model(inputs)\n",
    "            _, predicted_classes = outputs.max(dim=1)\n",
    "            all_preds.extend(predicted_classes.cpu().numpy())\n",
    "            # Convert targets to class indices if they are one-hot encoded\n",
    "            if targets.ndim > 1 and targets.size(1) > 1:\n",
    "                targets = targets.argmax(dim=1)\n",
    "            all_targets.extend(targets.cpu().numpy())\n",
    "\n",
    "    # Calculate the confusion matrix\n",
    "    cm = confusion_matrix(all_targets, all_preds)\n",
    "    acc = accuracy_score(all_targets, all_preds)\n",
    "\n",
    "    # Calculate per-class accuracy from the confusion matrix\n",
    "    class_accuracy = cm.diagonal() / cm.sum(axis=1)\n",
    "\n",
    "    # Print per-class accuracy with label names\n",
    "    for i, accuracy in enumerate(class_accuracy):\n",
    "        label_name = idx_to_label[i]\n",
    "        print(f\"Category '{label_name}': Accuracy: {accuracy:.2f}\")\n",
    "\n",
    "    print(f\"Overall Accuracy: {acc:.2f}\")\n",
    "\n",
    "    # Plot confusion matrix with label names\n",
    "    plt.figure(figsize=(10, 8))\n",
    "    sns.heatmap(cm, annot=True, fmt='d', cmap='Blues', xticklabels=idx_to_label.values(), yticklabels=idx_to_label.values())\n",
    "    plt.ylabel('Actual')\n",
    "    plt.xlabel('Predicted')\n",
    "    plt.title('Confusion Matrix')\n",
    "    plt.show()\n",
    "\n",
    "    return cm, class_accuracy, acc\n",
    "\n",
    "# Assuming you have a dictionary mapping indices to label names\n",
    "labels = {\n",
    "    label: number for number, label in enumerate(df.label.unique())\n",
    "}  # Labels to numbers dictionary\n",
    "reversed_labels = {v: k for k, v in labels.items()}\n",
    "# Call the function with the validation dataloader and index-to-label mapping\n",
    "cm, class_accuracy, overall_acc = cat_accuracy(model=model, dl=val, idx_to_label=reversed_labels)"
   ]
  },
  {
   "cell_type": "code",
   "execution_count": null,
   "metadata": {},
   "outputs": [],
   "source": []
  },
  {
   "cell_type": "code",
   "execution_count": null,
   "metadata": {},
   "outputs": [],
   "source": []
  },
  {
   "cell_type": "code",
   "execution_count": null,
   "metadata": {},
   "outputs": [],
   "source": []
  }
 ],
 "metadata": {
  "kernelspec": {
   "display_name": "nilusproject",
   "language": "python",
   "name": "python3"
  },
  "language_info": {
   "codemirror_mode": {
    "name": "ipython",
    "version": 3
   },
   "file_extension": ".py",
   "mimetype": "text/x-python",
   "name": "python",
   "nbconvert_exporter": "python",
   "pygments_lexer": "ipython3",
   "version": "3.9.6"
  }
 },
 "nbformat": 4,
 "nbformat_minor": 2
}
