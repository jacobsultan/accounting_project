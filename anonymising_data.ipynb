{
 "cells": [
  {
   "cell_type": "code",
   "execution_count": null,
   "metadata": {},
   "outputs": [],
   "source": [
    "import pandas as pd\n",
    "import itertools\n",
    "\n",
    "\n",
    "df = pd.read_csv('anonymized_data.csv')"
   ]
  },
  {
   "cell_type": "code",
   "execution_count": null,
   "metadata": {},
   "outputs": [],
   "source": [
    "unique_labels = df['label'].unique()\n",
    "letters = list('abcdefghi')\n",
    "label_mapping = {label: letters[i] for i, label in enumerate(unique_labels)}\n",
    "\n",
    "# Replace the labels in the dataframe with the corresponding letters\n",
    "df['label'] = df['label'].map(label_mapping)"
   ]
  },
  {
   "cell_type": "code",
   "execution_count": null,
   "metadata": {},
   "outputs": [],
   "source": [
    "all_words = ' '.join(df['description']).split()\n",
    "unique_words = list(set(all_words))\n",
    "letters = list('abcdefghijklmnopqrstuvwxyz')\n",
    "if len(unique_words) > len(letters):\n",
    "    letters.extend(['aa', 'ab', 'ac'])  # extend letters list if needed\n",
    "\n"
   ]
  },
  {
   "cell_type": "code",
   "execution_count": null,
   "metadata": {},
   "outputs": [],
   "source": [
    "def generate_identifiers(n):\n",
    "    letters = 'abcdefghijklmnopqrstuvwxyz'\n",
    "    for length in range(1, 5):  # Adjust length as needed\n",
    "        for combo in itertools.product(letters, repeat=length):\n",
    "            if n <= 0:\n",
    "                return\n",
    "            yield ''.join(combo)\n",
    "            n -= 1\n",
    "\n",
    "# Create a mapping of unique words to identifiers\n",
    "all_words = ' '.join(df['description']).split()\n",
    "unique_words = list(set(all_words))\n",
    "identifiers = list(generate_identifiers(len(unique_words)))"
   ]
  },
  {
   "cell_type": "code",
   "execution_count": null,
   "metadata": {},
   "outputs": [],
   "source": [
    "word_mapping = {word: identifiers[i] for i, word in enumerate(unique_words)}\n",
    "\n",
    "def anonymize_description(description):\n",
    "    return ' '.join([word_mapping[word] for word in description.split()])\n",
    "\n",
    "# Replace the words in the description column with the corresponding identifiers\n",
    "df['description'] = df['description'].apply(anonymize_description)"
   ]
  },
  {
   "cell_type": "code",
   "execution_count": null,
   "metadata": {},
   "outputs": [],
   "source": [
    "df.to_csv('anon_data.csv',index = False)"
   ]
  }
 ],
 "metadata": {
  "kernelspec": {
   "display_name": "myenv",
   "language": "python",
   "name": "python3"
  },
  "language_info": {
   "codemirror_mode": {
    "name": "ipython",
    "version": 3
   },
   "file_extension": ".py",
   "mimetype": "text/x-python",
   "name": "python",
   "nbconvert_exporter": "python",
   "pygments_lexer": "ipython3",
   "version": "3.9.6"
  }
 },
 "nbformat": 4,
 "nbformat_minor": 2
}
